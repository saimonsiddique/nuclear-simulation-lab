{
 "cells": [
  {
   "cell_type": "code",
   "execution_count": 21,
   "metadata": {},
   "outputs": [],
   "source": [
    "import openmc\n",
    "import matplotlib.pyplot as plt\n",
    "from matplotlib.pyplot import figure "
   ]
  },
  {
   "cell_type": "code",
   "execution_count": 4,
   "metadata": {},
   "outputs": [],
   "source": [
    "'''\n",
    "    Deifining Element in the pincell\n",
    "'''\n",
    "uo2 =  openmc.Material(1, \"uo2\")\n",
    "uo2.add_element('U', 1.0, enrichment=4.0)\n",
    "uo2.add_nuclide('O16', 2.0)\n",
    "uo2.set_density('g/cm3', 10.0)\n"
   ]
  },
  {
   "cell_type": "code",
   "execution_count": 5,
   "metadata": {},
   "outputs": [],
   "source": [
    "'''\n",
    "    Defining Cladding Material\n",
    "'''\n",
    "zirconium = openmc.Material(2, 'zirconium')\n",
    "zirconium.add_element('Zr', 1.0)\n",
    "zirconium.set_density('g/cm3', 6.6)"
   ]
  },
  {
   "cell_type": "code",
   "execution_count": 6,
   "metadata": {},
   "outputs": [],
   "source": [
    "'''\n",
    "    Deifining Modarator\n",
    "'''\n",
    "water = openmc.Material(3, \"h2o\")\n",
    "water.add_nuclide('H1', 2.0)\n",
    "water.add_nuclide('O16', 2.0)\n",
    "water.set_density('g/cm3', 1.0)\n",
    "water.add_s_alpha_beta('c_H_in_H2O')\n",
    "mats = openmc.Materials([uo2, zirconium, water])\n",
    "mats.cross_sections = '/media/saimon-siddique/SAIMON/1.STUDY MATERIALS/MIST NSE SEMESTERS/LEVEL-4 TERM-1/2. SESSIONALS/NSE 420/MIST LAB/cross_section_data/jeff33/jeff33_hdf5'\n",
    "mats.export_to_xml()\n"
   ]
  },
  {
   "cell_type": "code",
   "execution_count": 7,
   "metadata": {},
   "outputs": [],
   "source": [
    "'''\n",
    "    Defining Geometrical shapes\n",
    "'''\n",
    "fuel_or = openmc.ZCylinder(r=0.39)\n",
    "clad_ir = openmc.ZCylinder(r=0.40)\n",
    "clad_or = openmc.ZCylinder(r=0.46)"
   ]
  },
  {
   "cell_type": "code",
   "execution_count": 8,
   "metadata": {},
   "outputs": [],
   "source": [
    "'''\n",
    "    Defining Fuel Region Geometry\n",
    "'''\n",
    "\n",
    "fuel_region = -fuel_or\n",
    "gap_region = +fuel_or & -clad_ir\n",
    "clad_region = +clad_ir & -clad_or\n",
    "hexa = openmc.model.hexagonal_prism(edge_length=0.8, boundary_type='reflective')\n",
    "water_region = hexa & +clad_or"
   ]
  },
  {
   "cell_type": "code",
   "execution_count": 9,
   "metadata": {},
   "outputs": [],
   "source": [
    "'''\n",
    "    Creating a Fuel cell and Filled with UO2\n",
    "'''\n",
    "\n",
    "fuel = openmc.Cell(1,'fuel')\n",
    "fuel.fill = uo2\n",
    "fuel.region = fuel_region\n",
    "# fuel"
   ]
  },
  {
   "cell_type": "code",
   "execution_count": 10,
   "metadata": {},
   "outputs": [],
   "source": [
    "'''\n",
    "    Filling the gap_region with air\n",
    "'''\n",
    "\n",
    "gap = openmc.Cell(2, 'air gap')\n",
    "gap.region = gap_region\n",
    "# gap"
   ]
  },
  {
   "cell_type": "code",
   "execution_count": 11,
   "metadata": {},
   "outputs": [],
   "source": [
    "'''\n",
    "    Creating a cladding region and filled with zirconium\n",
    "'''\n",
    "\n",
    "clad = openmc.Cell(3, 'clad')\n",
    "clad.fill = zirconium\n",
    "clad.region = clad_region"
   ]
  },
  {
   "cell_type": "code",
   "execution_count": 12,
   "metadata": {},
   "outputs": [],
   "source": [
    "'''\n",
    "    Creating a moderator Cell and filled with water\n",
    "'''\n",
    "moderator = openmc.Cell(4, 'moderator')\n",
    "moderator.fill = water\n",
    "moderator.region = water_region"
   ]
  },
  {
   "cell_type": "code",
   "execution_count": 53,
   "metadata": {},
   "outputs": [
    {
     "data": {
      "image/png": "[encoded data removed]",
      "text/plain": [
       "<Figure size 900x900 with 1 Axes>"
      ]
     },
     "metadata": {
      "needs_background": "light"
     },
     "output_type": "display_data"
    }
   ],
   "source": [
    "# Extra code not showed in Lab\n",
    "universe = openmc.Universe(cells=[fuel, gap, clad, moderator])\n",
    "plot = universe.plot(width=(2, 2),colors={fuel: 'red', gap: 'white', clad: 'gray', moderator: 'blue'})\n",
    "# plt.rcParams[\"figure.figsize\"] = [1.50, 1.50]\n",
    "# plt.rcParams[\"figure.dpi\"] = 600\n",
    "plt.savefig('plot_fuelpin.png')"
   ]
  },
  {
   "cell_type": "code",
   "execution_count": null,
   "metadata": {},
   "outputs": [],
   "source": []
  }
 ],
 "metadata": {
  "interpreter": {
   "hash": "663d0e20cb7275d09c7425d68968a1c127ce5e9d999299c920b2208f6f46fd66"
  },
  "kernelspec": {
   "display_name": "Python 3.10.4 ('openmc-env')",
   "language": "python",
   "name": "python3"
  },
  "language_info": {
   "codemirror_mode": {
    "name": "ipython",
    "version": 3
   },
   "file_extension": ".py",
   "mimetype": "text/x-python",
   "name": "python",
   "nbconvert_exporter": "python",
   "pygments_lexer": "ipython3",
   "version": "3.10.4"
  },
  "orig_nbformat": 4
 },
 "nbformat": 4,
 "nbformat_minor": 2
}
